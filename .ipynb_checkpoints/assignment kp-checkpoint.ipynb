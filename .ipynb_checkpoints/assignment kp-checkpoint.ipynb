{
 "cells": [
  {
   "cell_type": "code",
   "execution_count": 1,
   "metadata": {},
   "outputs": [],
   "source": [
    "import sqlite3\n",
    "con = sqlite3.connect('Moviesdbkp.db')"
   ]
  },
  {
   "cell_type": "code",
   "execution_count": 2,
   "metadata": {},
   "outputs": [
    {
     "data": {
      "text/plain": [
       "<sqlite3.Cursor at 0x1ceeb07b500>"
      ]
     },
     "execution_count": 2,
     "metadata": {},
     "output_type": "execute_result"
    }
   ],
   "source": [
    "cur = con.cursor()\n",
    "\n",
    "# Create the MOVIES table\n",
    "cur.execute('''CREATE TABLE MOVIES\n",
    "               (MovieName text, LeadActor text, LeadActress text, Director text, YOR text)''')\n"
   ]
  },
  {
   "cell_type": "code",
   "execution_count": 3,
   "metadata": {},
   "outputs": [],
   "source": [
    "# Inserting data in the MOVIES table of the database\n",
    "cur.execute(\"INSERT INTO MOVIES VALUES ('DEATH ON THE NILE','Kenneth Branagh','Gal Gadot', 'Kenneth Branagh', '2022')\")\n",
    "cur.execute(\"INSERT INTO MOVIES VALUES('MARRY ME','Owen Wilson', 'Jennifer Lopez', 'Kat Coiro', '2022')\")\n",
    "cur.execute(\"INSERT INTO MOVIES VALUES('THE POWER OF THE DOG','Benedict Cumberbatch', 'Kirsten Dunst', 'Jane Campion', '2021')\")\n",
    "cur.execute(\"INSERT INTO MOVIES VALUES('NIGHTMARE ALLEY','Bradley Cooper', 'Rooney Mara', 'Guillermo del Toro', '2021')\")\n",
    "cur.execute(\"INSERT INTO MOVIES VALUES('I WANT YOU BACK','Charlie Day', 'Jenny Slate', 'Jason Orley', '2022')\")\n",
    "cur.execute(\"INSERT INTO MOVIES VALUES('THE IMITATION GAME','Benedict Cumberbatch', 'Keira Knightley', 'Morten Tyldum', '2014')\")\n",
    "\n",
    "con.commit()"
   ]
  },
  {
   "cell_type": "code",
   "execution_count": 4,
   "metadata": {},
   "outputs": [
    {
     "name": "stdout",
     "output_type": "stream",
     "text": [
      "('DEATH ON THE NILE', 'Kenneth Branagh', 'Gal Gadot', 'Kenneth Branagh', '2022')\n",
      "('MARRY ME', 'Owen Wilson', 'Jennifer Lopez', 'Kat Coiro', '2022')\n",
      "('THE POWER OF THE DOG', 'Benedict Cumberbatch', 'Kirsten Dunst', 'Jane Campion', '2021')\n",
      "('NIGHTMARE ALLEY', 'Bradley Cooper', 'Rooney Mara', 'Guillermo del Toro', '2021')\n",
      "('I WANT YOU BACK', 'Charlie Day', 'Jenny Slate', 'Jason Orley', '2022')\n",
      "('THE IMITATION GAME', 'Benedict Cumberbatch', 'Keira Knightley', 'Morten Tyldum', '2014')\n"
     ]
    }
   ],
   "source": [
    "# Printing all the data avaailable in the database\n",
    "for row in cur.execute('SELECT * FROM MOVIES'):\n",
    "        print(row)"
   ]
  },
  {
   "cell_type": "code",
   "execution_count": 6,
   "metadata": {},
   "outputs": [
    {
     "name": "stdout",
     "output_type": "stream",
     "text": [
      "('THE POWER OF THE DOG', 'Benedict Cumberbatch', 'Kirsten Dunst', 'Jane Campion', '2021')\n",
      "('THE IMITATION GAME', 'Benedict Cumberbatch', 'Keira Knightley', 'Morten Tyldum', '2014')\n"
     ]
    }
   ],
   "source": [
    "# Printing the details of the movies having Benedict Cumberbatch as lead actor\n",
    "cur.execute(\"SELECT * FROM MOVIES WHERE LeadActor = 'Benedict Cumberbatch'\")\n",
    "record = cur.fetchall()\n",
    "for row in record:\n",
    "        print(row)"
   ]
  },
  {
   "cell_type": "code",
   "execution_count": null,
   "metadata": {},
   "outputs": [],
   "source": []
  }
 ],
 "metadata": {
  "interpreter": {
   "hash": "8ad901ce62f1419bc6a319ef3aef13f4636920bf70484de08570962413f6845e"
  },
  "kernelspec": {
   "display_name": "Python 3 (ipykernel)",
   "language": "python",
   "name": "python3"
  },
  "language_info": {
   "codemirror_mode": {
    "name": "ipython",
    "version": 3
   },
   "file_extension": ".py",
   "mimetype": "text/x-python",
   "name": "python",
   "nbconvert_exporter": "python",
   "pygments_lexer": "ipython3",
   "version": "3.9.7"
  }
 },
 "nbformat": 4,
 "nbformat_minor": 2
}
